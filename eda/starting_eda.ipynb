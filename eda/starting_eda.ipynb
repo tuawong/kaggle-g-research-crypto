{
 "cells": [
  {
   "cell_type": "code",
   "execution_count": 56,
   "metadata": {},
   "outputs": [
    {
     "name": "stdout",
     "output_type": "stream",
     "text": [
      "The google.cloud.bigquery extension is already loaded. To reload it, use:\n",
      "  %reload_ext google.cloud.bigquery\n",
      "The autoreload extension is already loaded. To reload it, use:\n",
      "  %reload_ext autoreload\n"
     ]
    }
   ],
   "source": [
    "%load_ext google.cloud.bigquery\n",
    "%load_ext autoreload\n",
    "%autoreload 2\n",
    "\n",
    "import numpy as np \n",
    "import pandas as pd\n",
    "import pathlib\n",
    "import pickle\n",
    "import os\n",
    "from typing import Union\n",
    "\n",
    "from statsmodels.graphics.tsaplots import plot_acf, plot_pacf\n",
    "\n",
    "import matplotlib.pyplot as plt\n",
    "import seaborn as sns\n",
    "\n",
    "WORK_DIR = pathlib.Path.cwd()\n",
    "DATA_DIR = WORK_DIR/'data/input'\n",
    "OUT_DIR = WORK_DIR/'data/output'\n"
   ]
  },
  {
   "cell_type": "code",
   "execution_count": 57,
   "metadata": {},
   "outputs": [
    {
     "data": {
      "text/html": [
       "<div>\n",
       "<style scoped>\n",
       "    .dataframe tbody tr th:only-of-type {\n",
       "        vertical-align: middle;\n",
       "    }\n",
       "\n",
       "    .dataframe tbody tr th {\n",
       "        vertical-align: top;\n",
       "    }\n",
       "\n",
       "    .dataframe thead th {\n",
       "        text-align: right;\n",
       "    }\n",
       "</style>\n",
       "<table border=\"1\" class=\"dataframe\">\n",
       "  <thead>\n",
       "    <tr style=\"text-align: right;\">\n",
       "      <th></th>\n",
       "      <th>Asset_ID</th>\n",
       "      <th>Weight</th>\n",
       "      <th>Asset_Name</th>\n",
       "    </tr>\n",
       "  </thead>\n",
       "  <tbody>\n",
       "    <tr>\n",
       "      <th>1</th>\n",
       "      <td>0</td>\n",
       "      <td>4.304065</td>\n",
       "      <td>Binance Coin</td>\n",
       "    </tr>\n",
       "    <tr>\n",
       "      <th>2</th>\n",
       "      <td>1</td>\n",
       "      <td>6.779922</td>\n",
       "      <td>Bitcoin</td>\n",
       "    </tr>\n",
       "    <tr>\n",
       "      <th>0</th>\n",
       "      <td>2</td>\n",
       "      <td>2.397895</td>\n",
       "      <td>Bitcoin Cash</td>\n",
       "    </tr>\n",
       "    <tr>\n",
       "      <th>10</th>\n",
       "      <td>3</td>\n",
       "      <td>4.406719</td>\n",
       "      <td>Cardano</td>\n",
       "    </tr>\n",
       "    <tr>\n",
       "      <th>13</th>\n",
       "      <td>4</td>\n",
       "      <td>3.555348</td>\n",
       "      <td>Dogecoin</td>\n",
       "    </tr>\n",
       "    <tr>\n",
       "      <th>3</th>\n",
       "      <td>5</td>\n",
       "      <td>1.386294</td>\n",
       "      <td>EOS.IO</td>\n",
       "    </tr>\n",
       "    <tr>\n",
       "      <th>5</th>\n",
       "      <td>6</td>\n",
       "      <td>5.894403</td>\n",
       "      <td>Ethereum</td>\n",
       "    </tr>\n",
       "    <tr>\n",
       "      <th>4</th>\n",
       "      <td>7</td>\n",
       "      <td>2.079442</td>\n",
       "      <td>Ethereum Classic</td>\n",
       "    </tr>\n",
       "    <tr>\n",
       "      <th>11</th>\n",
       "      <td>8</td>\n",
       "      <td>1.098612</td>\n",
       "      <td>IOTA</td>\n",
       "    </tr>\n",
       "    <tr>\n",
       "      <th>6</th>\n",
       "      <td>9</td>\n",
       "      <td>2.397895</td>\n",
       "      <td>Litecoin</td>\n",
       "    </tr>\n",
       "    <tr>\n",
       "      <th>12</th>\n",
       "      <td>10</td>\n",
       "      <td>1.098612</td>\n",
       "      <td>Maker</td>\n",
       "    </tr>\n",
       "    <tr>\n",
       "      <th>7</th>\n",
       "      <td>11</td>\n",
       "      <td>1.609438</td>\n",
       "      <td>Monero</td>\n",
       "    </tr>\n",
       "    <tr>\n",
       "      <th>9</th>\n",
       "      <td>12</td>\n",
       "      <td>2.079442</td>\n",
       "      <td>Stellar</td>\n",
       "    </tr>\n",
       "    <tr>\n",
       "      <th>8</th>\n",
       "      <td>13</td>\n",
       "      <td>1.791759</td>\n",
       "      <td>TRON</td>\n",
       "    </tr>\n",
       "  </tbody>\n",
       "</table>\n",
       "</div>"
      ],
      "text/plain": [
       "    Asset_ID    Weight        Asset_Name\n",
       "1          0  4.304065      Binance Coin\n",
       "2          1  6.779922           Bitcoin\n",
       "0          2  2.397895      Bitcoin Cash\n",
       "10         3  4.406719           Cardano\n",
       "13         4  3.555348          Dogecoin\n",
       "3          5  1.386294            EOS.IO\n",
       "5          6  5.894403          Ethereum\n",
       "4          7  2.079442  Ethereum Classic\n",
       "11         8  1.098612              IOTA\n",
       "6          9  2.397895          Litecoin\n",
       "12        10  1.098612             Maker\n",
       "7         11  1.609438            Monero\n",
       "9         12  2.079442           Stellar\n",
       "8         13  1.791759              TRON"
      ]
     },
     "execution_count": 57,
     "metadata": {},
     "output_type": "execute_result"
    }
   ],
   "source": [
    "train = pd.read_csv(DATA_DIR/'train.csv', nrows=200000)\n",
    "asset_details = pd.read_csv(DATA_DIR/'asset_details.csv')    \n",
    "asset_details.sort_values('Asset_ID')"
   ]
  },
  {
   "cell_type": "code",
   "execution_count": 58,
   "metadata": {},
   "outputs": [],
   "source": [
    "from typing import List, Tuple\n",
    "\n",
    "def log_return(series, periods=1):\n",
    "    return np.log(series).diff(periods=periods)\n",
    "\n",
    "def preprocess_data(\n",
    "    df: pd.DataFrame, \n",
    "    return_delays: List[int] = [1, 2, 3, 4, 5, 10, 15]\n",
    "    ): \n",
    "    df_processed = df.copy()\n",
    "    \n",
    "    df_processed.columns = [col.lower().replace(' ', '_') for col in df_processed.columns]\n",
    "    df_processed = df_processed.assign(\n",
    "        timestamp_min = df_processed.timestamp.astype('datetime64[s]')\n",
    "    ).set_index('timestamp')\n",
    "        \n",
    "    df_out = pd.DataFrame()\n",
    "    for asset_id in df_processed.asset_id.unique():\n",
    "        data1 = df_processed.loc[df_processed.asset_id == asset_id, :]\n",
    "        print(f'ID {asset_id} Missing Target: {data1.target.isna().mean()*100:.2f}%')\n",
    "\n",
    "        for delay in return_delays: \n",
    "            data1[f'log_return_{delay}_period'] = log_return(data1.close, periods=delay).fillna(0)\n",
    "        \n",
    "        data1.target = data1.target.fillna(method='ffill')\n",
    "        df_out = df_out.append(data1.reindex(range(data1.index[0],data1.index[-1]+60,60),method='bfill').reset_index())\n",
    "        \n",
    "        print(f'{data1.shape}')\n",
    "\n",
    "    return df_out.fillna(0)\n",
    "\n",
    "\n",
    "def plot_data_avalability(train_df, ax=None):\n",
    "    if ax is None:\n",
    "        fig, ax = plt.subplots(figsize=(21, 10))\n",
    "    \n",
    "    asset_col = 'Asset_ID'\n",
    "    target_col = 'Target'\n",
    "\n",
    "    if 'asset_id' in train_df.columns: \n",
    "        asset_col = asset_col.lower()\n",
    "        target_col = asset_col.lower()\n",
    "\n",
    "    mask = (train_df[target_col].notna())\n",
    "    ax.scatter(train_df[mask].timestamp, train_df[mask][asset_col], s=1, label='With Target')\n",
    "\n",
    "    mask = (train_df[target_col].isna())\n",
    "    ax.scatter(train_df[mask].timestamp, train_df[mask][asset_col], s=1, label='Missing Target')\n",
    "\n",
    "    asset_list = asset_details.Asset_Name.values\n",
    "    ax.set_yticks(np.arange(len(asset_list)))\n",
    "    ax.set_yticklabels(asset_list)\n",
    "    ax.legend()\n",
    "\n",
    "\n",
    "\n"
   ]
  },
  {
   "cell_type": "code",
   "execution_count": 59,
   "metadata": {},
   "outputs": [
    {
     "data": {
      "image/png": "[encoded data removed]",
      "text/plain": [
       "<Figure size 1512x720 with 1 Axes>"
      ]
     },
     "metadata": {
      "needs_background": "light"
     },
     "output_type": "display_data"
    }
   ],
   "source": [
    "plot_data_avalability(train)"
   ]
  },
  {
   "cell_type": "code",
   "execution_count": 60,
   "metadata": {},
   "outputs": [
    {
     "name": "stdout",
     "output_type": "stream",
     "text": [
      "ID 2 Missing Target: 0.00%\n",
      "(25313, 17)\n",
      "ID 0 Missing Target: 0.85%\n",
      "(25078, 17)\n",
      "ID 1 Missing Target: 0.00%\n"
     ]
    },
    {
     "name": "stderr",
     "output_type": "stream",
     "text": [
      "<ipython-input-58-9b1208ea6143>:23: SettingWithCopyWarning:\n",
      "\n",
      "\n",
      "A value is trying to be set on a copy of a slice from a DataFrame.\n",
      "Try using .loc[row_indexer,col_indexer] = value instead\n",
      "\n",
      "See the caveats in the documentation: https://pandas.pydata.org/pandas-docs/stable/user_guide/indexing.html#returning-a-view-versus-a-copy\n",
      "\n",
      "c:\\users\\twongsan\\anaconda3\\lib\\site-packages\\pandas\\core\\generic.py:5303: SettingWithCopyWarning:\n",
      "\n",
      "\n",
      "A value is trying to be set on a copy of a slice from a DataFrame.\n",
      "Try using .loc[row_indexer,col_indexer] = value instead\n",
      "\n",
      "See the caveats in the documentation: https://pandas.pydata.org/pandas-docs/stable/user_guide/indexing.html#returning-a-view-versus-a-copy\n",
      "\n"
     ]
    },
    {
     "name": "stdout",
     "output_type": "stream",
     "text": [
      "(25313, 17)\n",
      "ID 5 Missing Target: 3.72%\n",
      "(24780, 17)\n",
      "ID 7 Missing Target: 1.12%\n",
      "(25167, 17)\n",
      "ID 6 Missing Target: 0.00%\n",
      "(25313, 17)\n",
      "ID 9 Missing Target: 0.00%\n",
      "(25313, 17)\n",
      "ID 11 Missing Target: 10.68%\n",
      "(23723, 17)\n"
     ]
    }
   ],
   "source": [
    "train_processed = preprocess_data(train)"
   ]
  },
  {
   "cell_type": "code",
   "execution_count": 61,
   "metadata": {},
   "outputs": [
    {
     "data": {
      "text/html": [
       "<div>\n",
       "<style scoped>\n",
       "    .dataframe tbody tr th:only-of-type {\n",
       "        vertical-align: middle;\n",
       "    }\n",
       "\n",
       "    .dataframe tbody tr th {\n",
       "        vertical-align: top;\n",
       "    }\n",
       "\n",
       "    .dataframe thead th {\n",
       "        text-align: right;\n",
       "    }\n",
       "</style>\n",
       "<table border=\"1\" class=\"dataframe\">\n",
       "  <thead>\n",
       "    <tr style=\"text-align: right;\">\n",
       "      <th></th>\n",
       "      <th>timestamp</th>\n",
       "      <th>asset_id</th>\n",
       "      <th>count</th>\n",
       "      <th>open</th>\n",
       "      <th>high</th>\n",
       "      <th>low</th>\n",
       "      <th>close</th>\n",
       "      <th>volume</th>\n",
       "      <th>vwap</th>\n",
       "      <th>target</th>\n",
       "      <th>timestamp_min</th>\n",
       "      <th>log_return_1_period</th>\n",
       "      <th>log_return_2_period</th>\n",
       "      <th>log_return_3_period</th>\n",
       "      <th>log_return_4_period</th>\n",
       "      <th>log_return_5_period</th>\n",
       "      <th>log_return_10_period</th>\n",
       "      <th>log_return_15_period</th>\n",
       "    </tr>\n",
       "  </thead>\n",
       "  <tbody>\n",
       "    <tr>\n",
       "      <th>0</th>\n",
       "      <td>1514764860</td>\n",
       "      <td>2</td>\n",
       "      <td>40.0</td>\n",
       "      <td>2376.580000</td>\n",
       "      <td>2399.5</td>\n",
       "      <td>2357.14</td>\n",
       "      <td>2374.590000</td>\n",
       "      <td>19.233005</td>\n",
       "      <td>2373.116392</td>\n",
       "      <td>-0.004218</td>\n",
       "      <td>2018-01-01 00:01:00</td>\n",
       "      <td>0.000000</td>\n",
       "      <td>0.000000</td>\n",
       "      <td>0.000000</td>\n",
       "      <td>0.000000</td>\n",
       "      <td>0.000000</td>\n",
       "      <td>0.000000</td>\n",
       "      <td>0.000000</td>\n",
       "    </tr>\n",
       "    <tr>\n",
       "      <th>1</th>\n",
       "      <td>1514764920</td>\n",
       "      <td>2</td>\n",
       "      <td>53.0</td>\n",
       "      <td>2374.553333</td>\n",
       "      <td>2400.9</td>\n",
       "      <td>2354.20</td>\n",
       "      <td>2372.286667</td>\n",
       "      <td>24.050259</td>\n",
       "      <td>2371.434498</td>\n",
       "      <td>-0.004079</td>\n",
       "      <td>2018-01-01 00:02:00</td>\n",
       "      <td>-0.000970</td>\n",
       "      <td>0.000000</td>\n",
       "      <td>0.000000</td>\n",
       "      <td>0.000000</td>\n",
       "      <td>0.000000</td>\n",
       "      <td>0.000000</td>\n",
       "      <td>0.000000</td>\n",
       "    </tr>\n",
       "    <tr>\n",
       "      <th>2</th>\n",
       "      <td>1514764980</td>\n",
       "      <td>2</td>\n",
       "      <td>61.0</td>\n",
       "      <td>2371.633333</td>\n",
       "      <td>2401.9</td>\n",
       "      <td>2353.70</td>\n",
       "      <td>2372.063333</td>\n",
       "      <td>42.676438</td>\n",
       "      <td>2375.442755</td>\n",
       "      <td>-0.002892</td>\n",
       "      <td>2018-01-01 00:03:00</td>\n",
       "      <td>-0.000094</td>\n",
       "      <td>-0.001065</td>\n",
       "      <td>0.000000</td>\n",
       "      <td>0.000000</td>\n",
       "      <td>0.000000</td>\n",
       "      <td>0.000000</td>\n",
       "      <td>0.000000</td>\n",
       "    </tr>\n",
       "    <tr>\n",
       "      <th>3</th>\n",
       "      <td>1514765040</td>\n",
       "      <td>2</td>\n",
       "      <td>95.0</td>\n",
       "      <td>2376.060000</td>\n",
       "      <td>2406.4</td>\n",
       "      <td>2344.00</td>\n",
       "      <td>2370.566667</td>\n",
       "      <td>37.820918</td>\n",
       "      <td>2371.096152</td>\n",
       "      <td>-0.003718</td>\n",
       "      <td>2018-01-01 00:04:00</td>\n",
       "      <td>-0.000631</td>\n",
       "      <td>-0.000725</td>\n",
       "      <td>-0.001696</td>\n",
       "      <td>0.000000</td>\n",
       "      <td>0.000000</td>\n",
       "      <td>0.000000</td>\n",
       "      <td>0.000000</td>\n",
       "    </tr>\n",
       "    <tr>\n",
       "      <th>4</th>\n",
       "      <td>1514765100</td>\n",
       "      <td>2</td>\n",
       "      <td>33.0</td>\n",
       "      <td>2372.656667</td>\n",
       "      <td>2404.6</td>\n",
       "      <td>2343.40</td>\n",
       "      <td>2370.173333</td>\n",
       "      <td>8.519679</td>\n",
       "      <td>2370.345730</td>\n",
       "      <td>-0.002171</td>\n",
       "      <td>2018-01-01 00:05:00</td>\n",
       "      <td>-0.000166</td>\n",
       "      <td>-0.000797</td>\n",
       "      <td>-0.000891</td>\n",
       "      <td>-0.001862</td>\n",
       "      <td>0.000000</td>\n",
       "      <td>0.000000</td>\n",
       "      <td>0.000000</td>\n",
       "    </tr>\n",
       "    <tr>\n",
       "      <th>...</th>\n",
       "      <td>...</td>\n",
       "      <td>...</td>\n",
       "      <td>...</td>\n",
       "      <td>...</td>\n",
       "      <td>...</td>\n",
       "      <td>...</td>\n",
       "      <td>...</td>\n",
       "      <td>...</td>\n",
       "      <td>...</td>\n",
       "      <td>...</td>\n",
       "      <td>...</td>\n",
       "      <td>...</td>\n",
       "      <td>...</td>\n",
       "      <td>...</td>\n",
       "      <td>...</td>\n",
       "      <td>...</td>\n",
       "      <td>...</td>\n",
       "      <td>...</td>\n",
       "    </tr>\n",
       "    <tr>\n",
       "      <th>25308</th>\n",
       "      <td>1516283340</td>\n",
       "      <td>2</td>\n",
       "      <td>161.0</td>\n",
       "      <td>1862.878000</td>\n",
       "      <td>1910.3</td>\n",
       "      <td>1799.00</td>\n",
       "      <td>1850.474000</td>\n",
       "      <td>62.587579</td>\n",
       "      <td>1856.786520</td>\n",
       "      <td>-0.000988</td>\n",
       "      <td>2018-01-18 13:49:00</td>\n",
       "      <td>-0.006963</td>\n",
       "      <td>-0.009385</td>\n",
       "      <td>-0.010140</td>\n",
       "      <td>-0.000408</td>\n",
       "      <td>-0.010886</td>\n",
       "      <td>-0.009574</td>\n",
       "      <td>-0.005570</td>\n",
       "    </tr>\n",
       "    <tr>\n",
       "      <th>25309</th>\n",
       "      <td>1516283400</td>\n",
       "      <td>2</td>\n",
       "      <td>83.0</td>\n",
       "      <td>1849.450000</td>\n",
       "      <td>1894.3</td>\n",
       "      <td>1798.04</td>\n",
       "      <td>1851.542000</td>\n",
       "      <td>56.731077</td>\n",
       "      <td>1850.245606</td>\n",
       "      <td>-0.005749</td>\n",
       "      <td>2018-01-18 13:50:00</td>\n",
       "      <td>0.000577</td>\n",
       "      <td>-0.006386</td>\n",
       "      <td>-0.008808</td>\n",
       "      <td>-0.009563</td>\n",
       "      <td>0.000169</td>\n",
       "      <td>-0.007500</td>\n",
       "      <td>-0.005062</td>\n",
       "    </tr>\n",
       "    <tr>\n",
       "      <th>25310</th>\n",
       "      <td>1516283460</td>\n",
       "      <td>2</td>\n",
       "      <td>69.0</td>\n",
       "      <td>1851.110000</td>\n",
       "      <td>1894.9</td>\n",
       "      <td>1799.98</td>\n",
       "      <td>1851.896000</td>\n",
       "      <td>53.189917</td>\n",
       "      <td>1852.146585</td>\n",
       "      <td>-0.003986</td>\n",
       "      <td>2018-01-18 13:51:00</td>\n",
       "      <td>0.000191</td>\n",
       "      <td>0.000768</td>\n",
       "      <td>-0.006195</td>\n",
       "      <td>-0.008617</td>\n",
       "      <td>-0.009372</td>\n",
       "      <td>-0.008653</td>\n",
       "      <td>-0.006480</td>\n",
       "    </tr>\n",
       "    <tr>\n",
       "      <th>25311</th>\n",
       "      <td>1516283520</td>\n",
       "      <td>2</td>\n",
       "      <td>69.0</td>\n",
       "      <td>1851.882000</td>\n",
       "      <td>1900.0</td>\n",
       "      <td>1794.56</td>\n",
       "      <td>1852.808000</td>\n",
       "      <td>26.133510</td>\n",
       "      <td>1852.581409</td>\n",
       "      <td>0.002620</td>\n",
       "      <td>2018-01-18 13:52:00</td>\n",
       "      <td>0.000492</td>\n",
       "      <td>0.000684</td>\n",
       "      <td>0.001261</td>\n",
       "      <td>-0.005703</td>\n",
       "      <td>-0.008124</td>\n",
       "      <td>-0.003158</td>\n",
       "      <td>-0.006010</td>\n",
       "    </tr>\n",
       "    <tr>\n",
       "      <th>25312</th>\n",
       "      <td>1516283580</td>\n",
       "      <td>2</td>\n",
       "      <td>110.0</td>\n",
       "      <td>1851.956000</td>\n",
       "      <td>1900.0</td>\n",
       "      <td>1799.98</td>\n",
       "      <td>1853.356000</td>\n",
       "      <td>84.006595</td>\n",
       "      <td>1852.014948</td>\n",
       "      <td>-0.008463</td>\n",
       "      <td>2018-01-18 13:53:00</td>\n",
       "      <td>0.000296</td>\n",
       "      <td>0.000788</td>\n",
       "      <td>0.000979</td>\n",
       "      <td>0.001556</td>\n",
       "      <td>-0.005407</td>\n",
       "      <td>-0.010867</td>\n",
       "      <td>-0.006361</td>\n",
       "    </tr>\n",
       "  </tbody>\n",
       "</table>\n",
       "<p>25313 rows × 18 columns</p>\n",
       "</div>"
      ],
      "text/plain": [
       "        timestamp  asset_id  count         open    high      low        close  \\\n",
       "0      1514764860         2   40.0  2376.580000  2399.5  2357.14  2374.590000   \n",
       "1      1514764920         2   53.0  2374.553333  2400.9  2354.20  2372.286667   \n",
       "2      1514764980         2   61.0  2371.633333  2401.9  2353.70  2372.063333   \n",
       "3      1514765040         2   95.0  2376.060000  2406.4  2344.00  2370.566667   \n",
       "4      1514765100         2   33.0  2372.656667  2404.6  2343.40  2370.173333   \n",
       "...           ...       ...    ...          ...     ...      ...          ...   \n",
       "25308  1516283340         2  161.0  1862.878000  1910.3  1799.00  1850.474000   \n",
       "25309  1516283400         2   83.0  1849.450000  1894.3  1798.04  1851.542000   \n",
       "25310  1516283460         2   69.0  1851.110000  1894.9  1799.98  1851.896000   \n",
       "25311  1516283520         2   69.0  1851.882000  1900.0  1794.56  1852.808000   \n",
       "25312  1516283580         2  110.0  1851.956000  1900.0  1799.98  1853.356000   \n",
       "\n",
       "          volume         vwap    target       timestamp_min  \\\n",
       "0      19.233005  2373.116392 -0.004218 2018-01-01 00:01:00   \n",
       "1      24.050259  2371.434498 -0.004079 2018-01-01 00:02:00   \n",
       "2      42.676438  2375.442755 -0.002892 2018-01-01 00:03:00   \n",
       "3      37.820918  2371.096152 -0.003718 2018-01-01 00:04:00   \n",
       "4       8.519679  2370.345730 -0.002171 2018-01-01 00:05:00   \n",
       "...          ...          ...       ...                 ...   \n",
       "25308  62.587579  1856.786520 -0.000988 2018-01-18 13:49:00   \n",
       "25309  56.731077  1850.245606 -0.005749 2018-01-18 13:50:00   \n",
       "25310  53.189917  1852.146585 -0.003986 2018-01-18 13:51:00   \n",
       "25311  26.133510  1852.581409  0.002620 2018-01-18 13:52:00   \n",
       "25312  84.006595  1852.014948 -0.008463 2018-01-18 13:53:00   \n",
       "\n",
       "       log_return_1_period  log_return_2_period  log_return_3_period  \\\n",
       "0                 0.000000             0.000000             0.000000   \n",
       "1                -0.000970             0.000000             0.000000   \n",
       "2                -0.000094            -0.001065             0.000000   \n",
       "3                -0.000631            -0.000725            -0.001696   \n",
       "4                -0.000166            -0.000797            -0.000891   \n",
       "...                    ...                  ...                  ...   \n",
       "25308            -0.006963            -0.009385            -0.010140   \n",
       "25309             0.000577            -0.006386            -0.008808   \n",
       "25310             0.000191             0.000768            -0.006195   \n",
       "25311             0.000492             0.000684             0.001261   \n",
       "25312             0.000296             0.000788             0.000979   \n",
       "\n",
       "       log_return_4_period  log_return_5_period  log_return_10_period  \\\n",
       "0                 0.000000             0.000000              0.000000   \n",
       "1                 0.000000             0.000000              0.000000   \n",
       "2                 0.000000             0.000000              0.000000   \n",
       "3                 0.000000             0.000000              0.000000   \n",
       "4                -0.001862             0.000000              0.000000   \n",
       "...                    ...                  ...                   ...   \n",
       "25308            -0.000408            -0.010886             -0.009574   \n",
       "25309            -0.009563             0.000169             -0.007500   \n",
       "25310            -0.008617            -0.009372             -0.008653   \n",
       "25311            -0.005703            -0.008124             -0.003158   \n",
       "25312             0.001556            -0.005407             -0.010867   \n",
       "\n",
       "       log_return_15_period  \n",
       "0                  0.000000  \n",
       "1                  0.000000  \n",
       "2                  0.000000  \n",
       "3                  0.000000  \n",
       "4                  0.000000  \n",
       "...                     ...  \n",
       "25308             -0.005570  \n",
       "25309             -0.005062  \n",
       "25310             -0.006480  \n",
       "25311             -0.006010  \n",
       "25312             -0.006361  \n",
       "\n",
       "[25313 rows x 18 columns]"
      ]
     },
     "execution_count": 61,
     "metadata": {},
     "output_type": "execute_result"
    }
   ],
   "source": [
    "train_processed.loc[train_processed.asset_id==2]"
   ]
  },
  {
   "cell_type": "code",
   "execution_count": 62,
   "metadata": {},
   "outputs": [
    {
     "data": {
      "image/png": "[encoded data removed]",
      "text/plain": [
       "<Figure size 864x432 with 2 Axes>"
      ]
     },
     "metadata": {
      "needs_background": "light"
     },
     "output_type": "display_data"
    }
   ],
   "source": [
    "fig, (ax1, ax2) = plt.subplots(2, 1, figsize=(12, 6))\n",
    "plot_acf(train_processed['count'], ax=ax1)\n",
    "plot_pacf(train_processed['count'], ax=ax2)\n",
    "plt.tight_layout()"
   ]
  },
  {
   "cell_type": "code",
   "execution_count": 63,
   "metadata": {},
   "outputs": [
    {
     "data": {
      "application/vnd.plotly.v1+json": {
       "config": {
        "plotlyServerURL": "https://plot.ly"
       },
       "data": [
        {
         "close": [
          738.5075,
          738.26,
          737.5025,
          737.1025,
          735.7049999999997,
          735.2,
          734.4050000000003,
          735.0899999999997,
          735.35,
          734.4,
          734.695,
          734.6375,
          734.9849999999999,
          735.2399999999999,
          735.1275,
          734.8025,
          734.71,
          734.2275,
          734.0025,
          734.0825000000003,
          733.9175,
          733.4275,
          732.8975,
          731.82,
          732.0625,
          731.435,
          732.08,
          732.6474999999997,
          732.4175,
          732.4775000000003,
          732.9324999999999,
          733.4174999999997,
          733.1824999999999,
          732.6475,
          732.6825,
          732.6675,
          732.46,
          732.6324999999997,
          732.3425,
          732.765,
          732.2475,
          731.5375,
          731.54,
          731.1175000000003,
          731.7175,
          731.3450000000001,
          731.8225,
          731.9499999999997,
          732.1750000000003,
          732.1775,
          732.3675000000003,
          732.79,
          732.2149999999997,
          732.8,
          732.1325,
          731.53,
          732.105,
          732.1825,
          732.79,
          732.8900000000001,
          732.77,
          732.7099999999997,
          732.605,
          732.61,
          732.585,
          732.3275,
          731.2875,
          730.4625,
          729.7950000000003,
          729.3324999999999,
          729.415,
          729.5150000000001,
          729.4975,
          729.3475000000003,
          729.265,
          729.7049999999997,
          730.54,
          731.3199999999997,
          731.855,
          732.3325,
          732.685,
          732.8525,
          733.0475,
          733.6199999999999,
          733.88,
          733.5625,
          733.6225,
          733.6575,
          733.085,
          733.0249999999999,
          733.3375,
          732.905,
          732.0450000000003,
          732.7475000000003,
          732.5975,
          732.665,
          731.7075,
          732.8575,
          732.15,
          732.4749999999997
         ],
         "high": [
          746,
          745.14,
          745.12,
          744.69,
          743.8,
          743.8,
          744.73,
          744.03,
          744.65,
          744.38,
          745.32,
          744.73,
          744.33,
          744.48,
          744.34,
          744.3,
          744.31,
          744.3,
          744.31,
          744.16,
          743.46,
          743.41,
          743.42,
          741.48,
          741.39,
          741.5,
          738.4,
          741.45,
          738.68,
          739,
          739.47,
          739.43,
          739.68,
          738.71,
          738.98,
          738.08,
          742.94,
          738.39,
          739.31,
          738.56,
          739.08,
          739.08,
          738.14,
          738.83,
          737.52,
          737.52,
          738,
          737,
          738.55,
          736.97,
          736.99,
          737.03,
          737.29,
          738.29,
          738.29,
          737.99,
          738.97,
          738.14,
          738.95,
          738.09,
          739.75,
          738.1,
          738.1,
          738.17,
          738.15,
          738.15,
          738.14,
          738.1,
          737.52,
          736.43,
          736.97,
          736.55,
          736.09,
          736.76,
          736.76,
          735.03,
          735.02,
          736,
          736.9,
          735.86,
          735.02,
          736.81,
          738.1,
          738.08,
          738,
          736.87,
          735.93,
          735.95,
          736.45,
          736.45,
          737.94,
          737.55,
          735.27,
          736.73,
          735.29,
          735.5,
          734.84,
          734.62,
          734.99,
          735
         ],
         "low": [
          732.51,
          732.49,
          730,
          728.93,
          727.11,
          725,
          725,
          724.43,
          725.16,
          725,
          722.91,
          723.7,
          725.01,
          725.01,
          725.01,
          725.32,
          727,
          723.72,
          723,
          723.24,
          723,
          723.04,
          723,
          722.91,
          720.03,
          722.02,
          722.6,
          722.5,
          725.51,
          725.51,
          724.44,
          724.48,
          727.45,
          727.45,
          727.45,
          727.6,
          726.84,
          727.45,
          725.62,
          725.57,
          724,
          722.85,
          723.48,
          723.34,
          723.33,
          723,
          722.5,
          722.97,
          723.27,
          725.35,
          725.45,
          726.79,
          725.62,
          726.23,
          725.8,
          725.64,
          725,
          723.43,
          724.46,
          726.18,
          726.89,
          726.92,
          726.9,
          726.18,
          725.68,
          726.81,
          725.32,
          725.29,
          723.05,
          723.63,
          723,
          723.02,
          723.03,
          723.02,
          723.21,
          723.79,
          724.01,
          726,
          726.65,
          728.4,
          729.51,
          729.55,
          729.55,
          729.66,
          729.55,
          729.99,
          730,
          731,
          729.55,
          729.54,
          729.5,
          729,
          728.54,
          728.92,
          729.48,
          729.4,
          729.56,
          729.19,
          729.66,
          729.63
         ],
         "open": [
          738.3025,
          738.5075,
          738.3325,
          737.2225000000003,
          736.53,
          735.8425,
          735.06,
          734.23,
          735.1800000000003,
          734.95,
          734.655,
          734.8125,
          734.5825,
          735.0124999999997,
          735.1625,
          735.1225,
          735.1399999999999,
          734.7075,
          734.205,
          734.205,
          733.9175,
          733.6975000000001,
          733.425,
          732.5999999999997,
          731.7924999999997,
          731.8725000000003,
          731.79,
          732.2225,
          732.735,
          732.5775000000001,
          732.7950000000003,
          732.6374999999997,
          733.135,
          732.955,
          733.0799999999997,
          732.615,
          732.6800000000003,
          732.3299999999997,
          732.6999999999997,
          732.3725000000003,
          732.7425000000003,
          731.8225,
          731.2975,
          731.72,
          731.1875,
          731.4200000000003,
          731.245,
          731.6725,
          731.875,
          732.0325,
          732.19,
          732.3725,
          732.6275,
          732.4725,
          732.7299999999997,
          732.0975000000003,
          732,
          731.8875,
          732.02,
          732.7025000000001,
          732.9275,
          732.735,
          732.7125,
          732.6550000000003,
          732.6850000000003,
          732.4775000000003,
          732.075,
          731.3425,
          730.205,
          729.77,
          729.3625,
          729.2674999999997,
          729.5725000000001,
          729.4300000000003,
          729.005,
          729.6474999999997,
          729.51,
          730.765,
          731.0450000000003,
          731.9025,
          732.2525,
          732.55,
          732.7725,
          733.3149999999997,
          733.6724999999999,
          733.4775,
          733.6049999999997,
          733.4825000000003,
          733.5025,
          732.9200000000003,
          733.0300000000003,
          732.8175,
          732.1875,
          732.68,
          732.6500000000003,
          732.2349999999999,
          732.09,
          731.8625000000003,
          732.0666666666666,
          732.31
         ],
         "type": "candlestick",
         "x": [
          0,
          1,
          2,
          3,
          4,
          5,
          6,
          7,
          8,
          9,
          10,
          11,
          12,
          13,
          14,
          15,
          16,
          17,
          18,
          19,
          20,
          21,
          22,
          23,
          24,
          25,
          26,
          27,
          28,
          29,
          30,
          31,
          32,
          33,
          34,
          35,
          36,
          37,
          38,
          39,
          40,
          41,
          42,
          43,
          44,
          45,
          46,
          47,
          48,
          49,
          50,
          51,
          52,
          53,
          54,
          55,
          56,
          57,
          58,
          59,
          60,
          61,
          62,
          63,
          64,
          65,
          66,
          67,
          68,
          69,
          70,
          71,
          72,
          73,
          74,
          75,
          76,
          77,
          78,
          79,
          80,
          81,
          82,
          83,
          84,
          85,
          86,
          87,
          88,
          89,
          90,
          91,
          92,
          93,
          94,
          95,
          96,
          97,
          98,
          99
         ]
        }
       ],
       "layout": {
        "template": {
         "data": {
          "bar": [
           {
            "error_x": {
             "color": "#2a3f5f"
            },
            "error_y": {
             "color": "#2a3f5f"
            },
            "marker": {
             "line": {
              "color": "#E5ECF6",
              "width": 0.5
             }
            },
            "type": "bar"
           }
          ],
          "barpolar": [
           {
            "marker": {
             "line": {
              "color": "#E5ECF6",
              "width": 0.5
             }
            },
            "type": "barpolar"
           }
          ],
          "carpet": [
           {
            "aaxis": {
             "endlinecolor": "#2a3f5f",
             "gridcolor": "white",
             "linecolor": "white",
             "minorgridcolor": "white",
             "startlinecolor": "#2a3f5f"
            },
            "baxis": {
             "endlinecolor": "#2a3f5f",
             "gridcolor": "white",
             "linecolor": "white",
             "minorgridcolor": "white",
             "startlinecolor": "#2a3f5f"
            },
            "type": "carpet"
           }
          ],
          "choropleth": [
           {
            "colorbar": {
             "outlinewidth": 0,
             "ticks": ""
            },
            "type": "choropleth"
           }
          ],
          "contour": [
           {
            "colorbar": {
             "outlinewidth": 0,
             "ticks": ""
            },
            "colorscale": [
             [
              0,
              "#0d0887"
             ],
             [
              0.1111111111111111,
              "#46039f"
             ],
             [
              0.2222222222222222,
              "#7201a8"
             ],
             [
              0.3333333333333333,
              "#9c179e"
             ],
             [
              0.4444444444444444,
              "#bd3786"
             ],
             [
              0.5555555555555556,
              "#d8576b"
             ],
             [
              0.6666666666666666,
              "#ed7953"
             ],
             [
              0.7777777777777778,
              "#fb9f3a"
             ],
             [
              0.8888888888888888,
              "#fdca26"
             ],
             [
              1,
              "#f0f921"
             ]
            ],
            "type": "contour"
           }
          ],
          "contourcarpet": [
           {
            "colorbar": {
             "outlinewidth": 0,
             "ticks": ""
            },
            "type": "contourcarpet"
           }
          ],
          "heatmap": [
           {
            "colorbar": {
             "outlinewidth": 0,
             "ticks": ""
            },
            "colorscale": [
             [
              0,
              "#0d0887"
             ],
             [
              0.1111111111111111,
              "#46039f"
             ],
             [
              0.2222222222222222,
              "#7201a8"
             ],
             [
              0.3333333333333333,
              "#9c179e"
             ],
             [
              0.4444444444444444,
              "#bd3786"
             ],
             [
              0.5555555555555556,
              "#d8576b"
             ],
             [
              0.6666666666666666,
              "#ed7953"
             ],
             [
              0.7777777777777778,
              "#fb9f3a"
             ],
             [
              0.8888888888888888,
              "#fdca26"
             ],
             [
              1,
              "#f0f921"
             ]
            ],
            "type": "heatmap"
           }
          ],
          "heatmapgl": [
           {
            "colorbar": {
             "outlinewidth": 0,
             "ticks": ""
            },
            "colorscale": [
             [
              0,
              "#0d0887"
             ],
             [
              0.1111111111111111,
              "#46039f"
             ],
             [
              0.2222222222222222,
              "#7201a8"
             ],
             [
              0.3333333333333333,
              "#9c179e"
             ],
             [
              0.4444444444444444,
              "#bd3786"
             ],
             [
              0.5555555555555556,
              "#d8576b"
             ],
             [
              0.6666666666666666,
              "#ed7953"
             ],
             [
              0.7777777777777778,
              "#fb9f3a"
             ],
             [
              0.8888888888888888,
              "#fdca26"
             ],
             [
              1,
              "#f0f921"
             ]
            ],
            "type": "heatmapgl"
           }
          ],
          "histogram": [
           {
            "marker": {
             "colorbar": {
              "outlinewidth": 0,
              "ticks": ""
             }
            },
            "type": "histogram"
           }
          ],
          "histogram2d": [
           {
            "colorbar": {
             "outlinewidth": 0,
             "ticks": ""
            },
            "colorscale": [
             [
              0,
              "#0d0887"
             ],
             [
              0.1111111111111111,
              "#46039f"
             ],
             [
              0.2222222222222222,
              "#7201a8"
             ],
             [
              0.3333333333333333,
              "#9c179e"
             ],
             [
              0.4444444444444444,
              "#bd3786"
             ],
             [
              0.5555555555555556,
              "#d8576b"
             ],
             [
              0.6666666666666666,
              "#ed7953"
             ],
             [
              0.7777777777777778,
              "#fb9f3a"
             ],
             [
              0.8888888888888888,
              "#fdca26"
             ],
             [
              1,
              "#f0f921"
             ]
            ],
            "type": "histogram2d"
           }
          ],
          "histogram2dcontour": [
           {
            "colorbar": {
             "outlinewidth": 0,
             "ticks": ""
            },
            "colorscale": [
             [
              0,
              "#0d0887"
             ],
             [
              0.1111111111111111,
              "#46039f"
             ],
             [
              0.2222222222222222,
              "#7201a8"
             ],
             [
              0.3333333333333333,
              "#9c179e"
             ],
             [
              0.4444444444444444,
              "#bd3786"
             ],
             [
              0.5555555555555556,
              "#d8576b"
             ],
             [
              0.6666666666666666,
              "#ed7953"
             ],
             [
              0.7777777777777778,
              "#fb9f3a"
             ],
             [
              0.8888888888888888,
              "#fdca26"
             ],
             [
              1,
              "#f0f921"
             ]
            ],
            "type": "histogram2dcontour"
           }
          ],
          "mesh3d": [
           {
            "colorbar": {
             "outlinewidth": 0,
             "ticks": ""
            },
            "type": "mesh3d"
           }
          ],
          "parcoords": [
           {
            "line": {
             "colorbar": {
              "outlinewidth": 0,
              "ticks": ""
             }
            },
            "type": "parcoords"
           }
          ],
          "pie": [
           {
            "automargin": true,
            "type": "pie"
           }
          ],
          "scatter": [
           {
            "marker": {
             "colorbar": {
              "outlinewidth": 0,
              "ticks": ""
             }
            },
            "type": "scatter"
           }
          ],
          "scatter3d": [
           {
            "line": {
             "colorbar": {
              "outlinewidth": 0,
              "ticks": ""
             }
            },
            "marker": {
             "colorbar": {
              "outlinewidth": 0,
              "ticks": ""
             }
            },
            "type": "scatter3d"
           }
          ],
          "scattercarpet": [
           {
            "marker": {
             "colorbar": {
              "outlinewidth": 0,
              "ticks": ""
             }
            },
            "type": "scattercarpet"
           }
          ],
          "scattergeo": [
           {
            "marker": {
             "colorbar": {
              "outlinewidth": 0,
              "ticks": ""
             }
            },
            "type": "scattergeo"
           }
          ],
          "scattergl": [
           {
            "marker": {
             "colorbar": {
              "outlinewidth": 0,
              "ticks": ""
             }
            },
            "type": "scattergl"
           }
          ],
          "scattermapbox": [
           {
            "marker": {
             "colorbar": {
              "outlinewidth": 0,
              "ticks": ""
             }
            },
            "type": "scattermapbox"
           }
          ],
          "scatterpolar": [
           {
            "marker": {
             "colorbar": {
              "outlinewidth": 0,
              "ticks": ""
             }
            },
            "type": "scatterpolar"
           }
          ],
          "scatterpolargl": [
           {
            "marker": {
             "colorbar": {
              "outlinewidth": 0,
              "ticks": ""
             }
            },
            "type": "scatterpolargl"
           }
          ],
          "scatterternary": [
           {
            "marker": {
             "colorbar": {
              "outlinewidth": 0,
              "ticks": ""
             }
            },
            "type": "scatterternary"
           }
          ],
          "surface": [
           {
            "colorbar": {
             "outlinewidth": 0,
             "ticks": ""
            },
            "colorscale": [
             [
              0,
              "#0d0887"
             ],
             [
              0.1111111111111111,
              "#46039f"
             ],
             [
              0.2222222222222222,
              "#7201a8"
             ],
             [
              0.3333333333333333,
              "#9c179e"
             ],
             [
              0.4444444444444444,
              "#bd3786"
             ],
             [
              0.5555555555555556,
              "#d8576b"
             ],
             [
              0.6666666666666666,
              "#ed7953"
             ],
             [
              0.7777777777777778,
              "#fb9f3a"
             ],
             [
              0.8888888888888888,
              "#fdca26"
             ],
             [
              1,
              "#f0f921"
             ]
            ],
            "type": "surface"
           }
          ],
          "table": [
           {
            "cells": {
             "fill": {
              "color": "#EBF0F8"
             },
             "line": {
              "color": "white"
             }
            },
            "header": {
             "fill": {
              "color": "#C8D4E3"
             },
             "line": {
              "color": "white"
             }
            },
            "type": "table"
           }
          ]
         },
         "layout": {
          "annotationdefaults": {
           "arrowcolor": "#2a3f5f",
           "arrowhead": 0,
           "arrowwidth": 1
          },
          "coloraxis": {
           "colorbar": {
            "outlinewidth": 0,
            "ticks": ""
           }
          },
          "colorscale": {
           "diverging": [
            [
             0,
             "#8e0152"
            ],
            [
             0.1,
             "#c51b7d"
            ],
            [
             0.2,
             "#de77ae"
            ],
            [
             0.3,
             "#f1b6da"
            ],
            [
             0.4,
             "#fde0ef"
            ],
            [
             0.5,
             "#f7f7f7"
            ],
            [
             0.6,
             "#e6f5d0"
            ],
            [
             0.7,
             "#b8e186"
            ],
            [
             0.8,
             "#7fbc41"
            ],
            [
             0.9,
             "#4d9221"
            ],
            [
             1,
             "#276419"
            ]
           ],
           "sequential": [
            [
             0,
             "#0d0887"
            ],
            [
             0.1111111111111111,
             "#46039f"
            ],
            [
             0.2222222222222222,
             "#7201a8"
            ],
            [
             0.3333333333333333,
             "#9c179e"
            ],
            [
             0.4444444444444444,
             "#bd3786"
            ],
            [
             0.5555555555555556,
             "#d8576b"
            ],
            [
             0.6666666666666666,
             "#ed7953"
            ],
            [
             0.7777777777777778,
             "#fb9f3a"
            ],
            [
             0.8888888888888888,
             "#fdca26"
            ],
            [
             1,
             "#f0f921"
            ]
           ],
           "sequentialminus": [
            [
             0,
             "#0d0887"
            ],
            [
             0.1111111111111111,
             "#46039f"
            ],
            [
             0.2222222222222222,
             "#7201a8"
            ],
            [
             0.3333333333333333,
             "#9c179e"
            ],
            [
             0.4444444444444444,
             "#bd3786"
            ],
            [
             0.5555555555555556,
             "#d8576b"
            ],
            [
             0.6666666666666666,
             "#ed7953"
            ],
            [
             0.7777777777777778,
             "#fb9f3a"
            ],
            [
             0.8888888888888888,
             "#fdca26"
            ],
            [
             1,
             "#f0f921"
            ]
           ]
          },
          "colorway": [
           "#636efa",
           "#EF553B",
           "#00cc96",
           "#ab63fa",
           "#FFA15A",
           "#19d3f3",
           "#FF6692",
           "#B6E880",
           "#FF97FF",
           "#FECB52"
          ],
          "font": {
           "color": "#2a3f5f"
          },
          "geo": {
           "bgcolor": "white",
           "lakecolor": "white",
           "landcolor": "#E5ECF6",
           "showlakes": true,
           "showland": true,
           "subunitcolor": "white"
          },
          "hoverlabel": {
           "align": "left"
          },
          "hovermode": "closest",
          "mapbox": {
           "style": "light"
          },
          "paper_bgcolor": "white",
          "plot_bgcolor": "#E5ECF6",
          "polar": {
           "angularaxis": {
            "gridcolor": "white",
            "linecolor": "white",
            "ticks": ""
           },
           "bgcolor": "#E5ECF6",
           "radialaxis": {
            "gridcolor": "white",
            "linecolor": "white",
            "ticks": ""
           }
          },
          "scene": {
           "xaxis": {
            "backgroundcolor": "#E5ECF6",
            "gridcolor": "white",
            "gridwidth": 2,
            "linecolor": "white",
            "showbackground": true,
            "ticks": "",
            "zerolinecolor": "white"
           },
           "yaxis": {
            "backgroundcolor": "#E5ECF6",
            "gridcolor": "white",
            "gridwidth": 2,
            "linecolor": "white",
            "showbackground": true,
            "ticks": "",
            "zerolinecolor": "white"
           },
           "zaxis": {
            "backgroundcolor": "#E5ECF6",
            "gridcolor": "white",
            "gridwidth": 2,
            "linecolor": "white",
            "showbackground": true,
            "ticks": "",
            "zerolinecolor": "white"
           }
          },
          "shapedefaults": {
           "line": {
            "color": "#2a3f5f"
           }
          },
          "ternary": {
           "aaxis": {
            "gridcolor": "white",
            "linecolor": "white",
            "ticks": ""
           },
           "baxis": {
            "gridcolor": "white",
            "linecolor": "white",
            "ticks": ""
           },
           "bgcolor": "#E5ECF6",
           "caxis": {
            "gridcolor": "white",
            "linecolor": "white",
            "ticks": ""
           }
          },
          "title": {
           "x": 0.05
          },
          "xaxis": {
           "automargin": true,
           "gridcolor": "white",
           "linecolor": "white",
           "ticks": "",
           "title": {
            "standoff": 15
           },
           "zerolinecolor": "white",
           "zerolinewidth": 2
          },
          "yaxis": {
           "automargin": true,
           "gridcolor": "white",
           "linecolor": "white",
           "ticks": "",
           "title": {
            "standoff": 15
           },
           "zerolinecolor": "white",
           "zerolinewidth": 2
          }
         }
        }
       }
      }
     },
     "metadata": {},
     "output_type": "display_data"
    }
   ],
   "source": [
    "import plotly.graph_objects as go\n",
    "\n",
    "eth = train_processed.loc[train_processed.asset_id == 6].iloc[:100]\n",
    "fig = go.Figure(data=[go.Candlestick(x=eth.index, open=eth['open'], high=eth['high'], low=eth['low'], close=eth['close'])])\n",
    "fig.show()"
   ]
  },
  {
   "cell_type": "markdown",
   "metadata": {},
   "source": [
    "## Sample Classical ML Model"
   ]
  },
  {
   "cell_type": "code",
   "execution_count": 64,
   "metadata": {},
   "outputs": [],
   "source": [
    "from xgboost import XGBRegressor\n",
    "from sklearn.preprocessing import OneHotEncoder, StandardScaler\n",
    "from sklearn.linear_model import LinearRegression\n",
    "from sklearn.model_selection import train_test_split\n",
    "from sklearn.compose import ColumnTransformer\n",
    "from sklearn.pipeline import Pipeline"
   ]
  },
  {
   "cell_type": "code",
   "execution_count": 65,
   "metadata": {},
   "outputs": [],
   "source": [
    "num_col = ['count',\t'open',\t'high', 'low', 'close', 'volume', 'vwap'] + [col for col in train_processed.columns if 'return' in col]\n",
    "cat_col = ['asset_id']\n",
    "\n",
    "numeric_transformer = StandardScaler()\n",
    "categorical_transformer = OneHotEncoder(handle_unknown=\"ignore\")\n",
    "\n",
    "preprocessor = ColumnTransformer(\n",
    "    transformers=[\n",
    "        (\"num\", numeric_transformer, num_col),\n",
    "        (\"cat\", categorical_transformer, cat_col),\n",
    "    ]\n",
    ")"
   ]
  },
  {
   "cell_type": "code",
   "execution_count": 66,
   "metadata": {},
   "outputs": [],
   "source": [
    "X_train, X_test, y_train, y_test = train_test_split(train_processed.drop('target', axis=1), train_processed.target, random_state=123, test_size=0.1)\n",
    "\n",
    "X_train = preprocessor.fit_transform(X_train)\n",
    "X_test = preprocessor.transform(X_test)"
   ]
  },
  {
   "cell_type": "code",
   "execution_count": 67,
   "metadata": {},
   "outputs": [
    {
     "name": "stdout",
     "output_type": "stream",
     "text": [
      "Train Corr: 0.5919\n",
      "Train Corr: 0.1875\n"
     ]
    }
   ],
   "source": [
    "xg_reg = XGBRegressor(random_state=123)\n",
    "xg_reg.fit(X_train, y_train)\n",
    "\n",
    "print(f'Train Corr: {np.corrcoef(xg_reg.predict(X_train), y_train)[0][1]:.4f}')\n",
    "print(f'Test Corr: {np.corrcoef(xg_reg.predict(X_test), y_test)[0][1]:.4f}')"
   ]
  },
  {
   "cell_type": "code",
   "execution_count": 68,
   "metadata": {},
   "outputs": [
    {
     "name": "stdout",
     "output_type": "stream",
     "text": [
      "Train Corr: 0.0487\n",
      "Train Corr: 0.0403\n"
     ]
    }
   ],
   "source": [
    "lin_reg = LinearRegression()\n",
    "lin_reg.fit(X_train, y_train)\n",
    "\n",
    "print(f'Train Corr: {np.corrcoef(lin_reg.predict(X_train), y_train)[0][1]:.4f}')\n",
    "print(f'Test Corr: {np.corrcoef(lin_reg.predict(X_test), y_test)[0][1]:.4f}')"
   ]
  },
  {
   "cell_type": "markdown",
   "metadata": {},
   "source": [
    "## NN Model"
   ]
  },
  {
   "cell_type": "code",
   "execution_count": 69,
   "metadata": {},
   "outputs": [],
   "source": [
    "import tensorflow as tf\n",
    "from tensorflow import keras\n",
    "import numpy as np\n",
    "import tensorflow.keras.backend as K\n",
    "from keras.utils import plot_model\n",
    "from tensorflow.keras.utils import plot_model"
   ]
  },
  {
   "cell_type": "code",
   "execution_count": null,
   "metadata": {},
   "outputs": [],
   "source": [
    "stock_embedding_size = 20\n",
    "dense_layer_size = [32, 8]\n",
    "\n",
    "cat_input = ['asset_id']\n",
    "num_input = train_processed.columns.difference(['timestamp', 'timestamp_min', 'asset_id'])\n",
    "\n",
    "def create_nn(\n",
    "    stock_embedding_size = 20,\n",
    "    dense_layer_size = [32, 16, 8],\n",
    "    cat_input = cat_input,\n",
    "    num_input =num_input\n",
    "    ):\n",
    "    cat_input_layer = keras.layers.Input(shape=(len(cat_input), ), name='cat_input')\n",
    "    cat_embedded = keras.layers.Embedding(\n",
    "        input_dim = len(train_processed[cat_input].unique())+1,\n",
    "        output_dim = stock_embedding_size,  \n",
    "        input_length=len(cat_input), \n",
    "        name='stock_embedding')(cat_input_layer)\n",
    "    cat_embedded = keras.layers.Flatten()(cat_embedded)\n",
    "\n",
    "    num_input_layer = keras.layers.Input(shape=(len(num_input),), name='num_input')\n",
    "    num_norm= keras.layers.BatchNormalization()(num_input_layer)\n",
    "    #num_dense = keras.layers.Dense(50, activation='selu')(num_input_layer)\n",
    "\n",
    "    input_dense = keras.layers.Concatenate(axis=1)([cat_embedded, num_norm])\n",
    "    input_dense = keras.layers.BatchNormalization()(input_dense)\n",
    "\n",
    "    for size in dense_layer_size:\n",
    "        input_dense = keras.layers.Dense(size, activation='selu')(input_dense)\n",
    "        input_dense = keras.layers.BatchNormalization()(input_dense)\n",
    "\n",
    "    output_layer = keras.layers.Dense(1, activation='linear', name='prediction')(input_dense)\n",
    "    \n",
    "    model = keras.Model(\n",
    "    inputs = [cat_input_layer, num_input_layer], \n",
    "    outputs = output_layer\n",
    "    )   \n",
    "    "
   ]
  }
 ],
 "metadata": {
  "interpreter": {
   "hash": "8306dfeffe99d5a396452c01da02b21b73a31270164607f570944acdd1bb5a92"
  },
  "kernelspec": {
   "display_name": "Python 3.8.3 64-bit ('base': conda)",
   "language": "python",
   "name": "python3"
  },
  "language_info": {
   "codemirror_mode": {
    "name": "ipython",
    "version": 3
   },
   "file_extension": ".py",
   "mimetype": "text/x-python",
   "name": "python",
   "nbconvert_exporter": "python",
   "pygments_lexer": "ipython3",
   "version": "3.8.3"
  },
  "orig_nbformat": 4
 },
 "nbformat": 4,
 "nbformat_minor": 2
}
